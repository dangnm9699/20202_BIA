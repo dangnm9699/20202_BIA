{
 "cells": [
  {
   "cell_type": "code",
   "execution_count": 36,
   "metadata": {},
   "outputs": [],
   "source": [
    "import pandas as pd\n",
    "import numpy as np\n",
    "import pickle\n",
    "from sklearn.ensemble import RandomForestRegressor\n",
    "from sklearn.neural_network import MLPRegressor\n",
    "from sklearn.model_selection import GridSearchCV\n",
    "from sklearn.svm import LinearSVR\n",
    "from sklearn.preprocessing import LabelBinarizer, LabelEncoder\n",
    "from sklearn.metrics import mean_squared_error, mean_absolute_error\n",
    "from sklearn.model_selection import train_test_split\n",
    "import os\n",
    "from datetime import datetime\n",
    "import time"
   ]
  },
  {
   "cell_type": "code",
   "execution_count": 24,
   "metadata": {},
   "outputs": [],
   "source": [
    "def weighted_mean_absolute_error(y_true, y_pred, weight=None):\n",
    "    if weight is None:\n",
    "        weight = np.ones(y_true.shape[0])\n",
    "    weight_sum = weight.sum()\n",
    "    wmea = 1/weight_sum * (weight*np.abs(y_true-y_pred)).sum()\n",
    "    return wmea"
   ]
  },
  {
   "cell_type": "code",
   "execution_count": 26,
   "metadata": {},
   "outputs": [],
   "source": [
    "def train(X_train, y_train, X_test=None, y_test=None, weight=None):\n",
    "    # model\n",
    "    model = RandomForestRegressor()\n",
    "    print('Training')\n",
    "\n",
    "    print(X_train.shape)\n",
    "    model.fit(X=X_train, y=y_train)\n",
    "\n",
    "    # evaluate\n",
    "    if X_test is not None:\n",
    "        y_pred = model.predict(X=X_test)\n",
    "        wmae = weighted_mean_absolute_error(y_test, y_pred, weight)\n",
    "        print(\"WMAE: \", wmae)"
   ]
  },
  {
   "cell_type": "code",
   "execution_count": 27,
   "metadata": {},
   "outputs": [],
   "source": [
    "data_df = pd.read_csv('data/data.csv')"
   ]
  },
  {
   "cell_type": "code",
   "execution_count": 28,
   "metadata": {},
   "outputs": [],
   "source": [
    "def convert_date(date):\n",
    "    if date is None:\n",
    "        return None\n",
    "    date = datetime.strptime(date, '%Y-%m-%d')\n",
    "    return date\n",
    "\n",
    "\n",
    "def get_holiday(date):\n",
    "    holidays = {\n",
    "        \"2010-02-12\": \"super_bowl\",\n",
    "        \"2011-02-11\": \"super_bowl\",\n",
    "        \"2012-02-10\": \"super_bowl\",\n",
    "        \"2013-02-08\": \"super_bowl\",\n",
    "        \"2010-09-10\": \"labor_day\",\n",
    "        \"2011-09-09\": \"labor_day\",\n",
    "        \"2012-09-07\": \"labor_day\",\n",
    "        \"2013-09-06\": \"labor_day\",\n",
    "        \"2010-11-26\": \"thanksgiving\",\n",
    "        \"2011-11-25\": \"thanksgiving\",\n",
    "        \"2012-11-23\": \"thanksgiving\",\n",
    "        \"2013-11-29\": \"thanksgiving\",\n",
    "        \"2010-12-31\": \"christmas\",\n",
    "        \"2011-12-30\": \"christmas\",\n",
    "        \"2012-12-28\": \"christmas\",\n",
    "        \"2013-12-27\": \"christmas\"\n",
    "    }\n",
    "    if date not in holidays:\n",
    "        return 'not_holiday'\n",
    "    return holidays[date]\n",
    "\n",
    "\n",
    "def process_date(df):\n",
    "    df['Year'] = df['Date'].apply(lambda date: convert_date(date).year)\n",
    "    df['Month'] = df['Date'].apply(lambda date: convert_date(date).month)\n",
    "    df['Week'] = df['Date'].apply(lambda date: convert_date(date).isocalendar()[1])\n",
    "    df['Holiday'] = df['Date'].apply(lambda date: get_holiday(date))\n",
    "    return df\n"
   ]
  },
  {
   "cell_type": "code",
   "execution_count": 29,
   "metadata": {},
   "outputs": [],
   "source": [
    "def convert_type(x):\n",
    "    type_ = {\n",
    "        'A': 3,\n",
    "        'B': 2,\n",
    "        'C': 1\n",
    "    }\n",
    "    return type_[x]\n",
    "\n",
    "def process_type(df):\n",
    "    df['Type_'] = df['Type'].apply(lambda x: convert_type(x))\n",
    "    return df"
   ]
  },
  {
   "cell_type": "code",
   "execution_count": 30,
   "metadata": {},
   "outputs": [
    {
     "name": "stdout",
     "output_type": "stream",
     "text": [
      "   Store  Dept        Date  Weekly_Sales  IsHoliday  Temperature  Fuel_Price  \\\n",
      "0      1     1  2010-02-05      24924.50      False        42.31       2.572   \n",
      "1      1     2  2010-02-05      50605.27      False        42.31       2.572   \n",
      "2      1     3  2010-02-05      13740.12      False        42.31       2.572   \n",
      "3      1     4  2010-02-05      39954.04      False        42.31       2.572   \n",
      "4      1     5  2010-02-05      32229.38      False        42.31       2.572   \n",
      "\n",
      "   MarkDown1  MarkDown2  MarkDown3  ...  MarkDown5         CPI  Unemployment  \\\n",
      "0        NaN        NaN        NaN  ...        NaN  211.096358         8.106   \n",
      "1        NaN        NaN        NaN  ...        NaN  211.096358         8.106   \n",
      "2        NaN        NaN        NaN  ...        NaN  211.096358         8.106   \n",
      "3        NaN        NaN        NaN  ...        NaN  211.096358         8.106   \n",
      "4        NaN        NaN        NaN  ...        NaN  211.096358         8.106   \n",
      "\n",
      "   Type    Size  Year  Month  Week      Holiday Type_  \n",
      "0     A  151315  2010      2     5  not_holiday     3  \n",
      "1     A  151315  2010      2     5  not_holiday     3  \n",
      "2     A  151315  2010      2     5  not_holiday     3  \n",
      "3     A  151315  2010      2     5  not_holiday     3  \n",
      "4     A  151315  2010      2     5  not_holiday     3  \n",
      "\n",
      "[5 rows x 21 columns]\n"
     ]
    }
   ],
   "source": [
    "data_df = process_date(data_df)\n",
    "data_df = process_type(data_df)\n",
    "print(data_df.head())"
   ]
  },
  {
   "cell_type": "markdown",
   "metadata": {},
   "source": [
    "## Train base model"
   ]
  },
  {
   "cell_type": "code",
   "execution_count": 31,
   "metadata": {},
   "outputs": [],
   "source": [
    "def get_weight(df):\n",
    "    df['weight'] = df['IsHoliday'].apply(lambda x: 5 if x is True else 1)\n",
    "\n",
    "    return df"
   ]
  },
  {
   "cell_type": "code",
   "execution_count": 48,
   "metadata": {},
   "outputs": [
    {
     "name": "stderr",
     "output_type": "stream",
     "text": [
      "/home/tungnk/anaconda3/lib/python3.7/site-packages/ipykernel_launcher.py:2: SettingWithCopyWarning: \n",
      "A value is trying to be set on a copy of a slice from a DataFrame.\n",
      "Try using .loc[row_indexer,col_indexer] = value instead\n",
      "\n",
      "See the caveats in the documentation: https://pandas.pydata.org/pandas-docs/stable/user_guide/indexing.html#returning-a-view-versus-a-copy\n",
      "  \n",
      "/home/tungnk/anaconda3/lib/python3.7/site-packages/sklearn/ensemble/forest.py:246: FutureWarning: The default value of n_estimators will change from 10 in version 0.20 to 100 in 0.22.\n",
      "  \"10 in version 0.20 to 100 in 0.22.\", FutureWarning)\n"
     ]
    },
    {
     "name": "stdout",
     "output_type": "stream",
     "text": [
      "Training\n",
      "(337256, 8)\n",
      "WMAE:  1541.8189598371705\n"
     ]
    }
   ],
   "source": [
    "train_df, test_df = train_test_split(data_df, test_size=0.2)\n",
    "\n",
    "train_df_feature = train_df[['Store', 'Dept', 'IsHoliday', 'Week', 'Size', 'Year', 'Type_', 'Month', 'Weekly_Sales']]\n",
    "test_df_feature = test_df[['Store', 'Dept', 'IsHoliday', 'Week', 'Size', 'Year', 'Type_', 'Month', 'Weekly_Sales']]\n",
    "\n",
    "y_train = train_df_feature['Weekly_Sales'].to_numpy()\n",
    "X_train = train_df_feature.drop(columns=['Weekly_Sales']).to_numpy()\n",
    "\n",
    "y_test = test_df_feature['Weekly_Sales'].to_numpy()\n",
    "X_test = test_df_feature.drop(columns=['Weekly_Sales']).to_numpy()\n",
    "weight = get_weight(test_df_feature)['weight'].to_numpy()\n",
    "train(X_train, y_train, X_test, y_test, weight)"
   ]
  },
  {
   "cell_type": "markdown",
   "metadata": {},
   "source": [
    "Traing model base with features ['Store', 'Dept', 'IsHoliday', 'Week', 'Size', 'Year', 'Type_', 'Month', 'Weekly_Sales'] have result:\n",
    "\n",
    "WMAE:  1541.930263117955"
   ]
  },
  {
   "cell_type": "markdown",
   "metadata": {},
   "source": [
    "## Experiment with holiday"
   ]
  },
  {
   "cell_type": "code",
   "execution_count": 94,
   "metadata": {},
   "outputs": [
    {
     "data": {
      "text/plain": [
       "LabelEncoder()"
      ]
     },
     "execution_count": 94,
     "metadata": {},
     "output_type": "execute_result"
    }
   ],
   "source": [
    "# build labelencoder for holiday\n",
    "holi_encoder = LabelEncoder()\n",
    "holi_encoder.fit(data_df['Holiday'].tolist())"
   ]
  },
  {
   "cell_type": "code",
   "execution_count": 95,
   "metadata": {},
   "outputs": [
    {
     "data": {
      "text/plain": [
       "Index(['Store', 'Dept', 'Date', 'Weekly_Sales', 'IsHoliday', 'Temperature',\n",
       "       'Fuel_Price', 'MarkDown1', 'MarkDown2', 'MarkDown3', 'MarkDown4',\n",
       "       'MarkDown5', 'CPI', 'Unemployment', 'Type', 'Size', 'Year', 'Month',\n",
       "       'Week', 'Holiday', 'Type_'],\n",
       "      dtype='object')"
      ]
     },
     "execution_count": 95,
     "metadata": {},
     "output_type": "execute_result"
    }
   ],
   "source": [
    "train_df.columns"
   ]
  },
  {
   "cell_type": "code",
   "execution_count": 97,
   "metadata": {},
   "outputs": [
    {
     "name": "stdout",
     "output_type": "stream",
     "text": [
      "(337256, 8)\n",
      "(337256,)\n",
      "--> (337256, 9)\n",
      "(84314, 8)\n",
      "(84314,)\n",
      "--> (84314, 9)\n",
      "Training\n",
      "(337256, 9)\n"
     ]
    },
    {
     "name": "stderr",
     "output_type": "stream",
     "text": [
      "/home/tungnk/anaconda3/lib/python3.7/site-packages/sklearn/ensemble/forest.py:246: FutureWarning: The default value of n_estimators will change from 10 in version 0.20 to 100 in 0.22.\n",
      "  \"10 in version 0.20 to 100 in 0.22.\", FutureWarning)\n"
     ]
    },
    {
     "name": "stdout",
     "output_type": "stream",
     "text": [
      "WMAE:  1545.3707461646388\n"
     ]
    }
   ],
   "source": [
    "# add holiday train\n",
    "\n",
    "holiday_train = holi_encoder.transform(train_df['Holiday'].tolist())\n",
    "print(X_train.shape)\n",
    "print(holiday_train.shape)\n",
    "X_train_ = np.c_[X_train, holiday_train]\n",
    "print('-->', X_train_.shape)\n",
    "\n",
    "# add holiday test\n",
    "\n",
    "holiday_test = holi_encoder.transform(test_df['Holiday'].tolist())\n",
    "print(X_test.shape)\n",
    "print(holiday_test.shape)\n",
    "X_test_ = np.c_[X_test, holiday_test]\n",
    "print('-->', X_test_.shape)\n",
    "\n",
    "train(X_train_, y_train, X_test_, y_test, weight)"
   ]
  },
  {
   "cell_type": "markdown",
   "metadata": {},
   "source": [
    "WMAE:  1519.7788043827425"
   ]
  },
  {
   "cell_type": "markdown",
   "metadata": {},
   "source": [
    "##  Use Markdown "
   ]
  },
  {
   "cell_type": "code",
   "execution_count": 72,
   "metadata": {},
   "outputs": [],
   "source": [
    "# process fill na markdown\n",
    "def fill_na(df: pd.DataFrame):\n",
    "    df['MarkDown1'] = df['MarkDown1'].fillna(value=0.0)\n",
    "    df['MarkDown2'] = df['MarkDown2'].fillna(value=0.0)\n",
    "    df['MarkDown3'] = df['MarkDown3'].fillna(value=0.0)\n",
    "    df['MarkDown4'] = df['MarkDown4'].fillna(value=0.0)\n",
    "    df['MarkDown5'] = df['MarkDown5'].fillna(value=0.0)\n",
    "    return df"
   ]
  },
  {
   "cell_type": "code",
   "execution_count": 88,
   "metadata": {},
   "outputs": [
    {
     "name": "stderr",
     "output_type": "stream",
     "text": [
      "/home/tungnk/anaconda3/lib/python3.7/site-packages/ipykernel_launcher.py:3: SettingWithCopyWarning: \n",
      "A value is trying to be set on a copy of a slice from a DataFrame.\n",
      "Try using .loc[row_indexer,col_indexer] = value instead\n",
      "\n",
      "See the caveats in the documentation: https://pandas.pydata.org/pandas-docs/stable/user_guide/indexing.html#returning-a-view-versus-a-copy\n",
      "  This is separate from the ipykernel package so we can avoid doing imports until\n",
      "/home/tungnk/anaconda3/lib/python3.7/site-packages/ipykernel_launcher.py:4: SettingWithCopyWarning: \n",
      "A value is trying to be set on a copy of a slice from a DataFrame.\n",
      "Try using .loc[row_indexer,col_indexer] = value instead\n",
      "\n",
      "See the caveats in the documentation: https://pandas.pydata.org/pandas-docs/stable/user_guide/indexing.html#returning-a-view-versus-a-copy\n",
      "  after removing the cwd from sys.path.\n",
      "/home/tungnk/anaconda3/lib/python3.7/site-packages/ipykernel_launcher.py:5: SettingWithCopyWarning: \n",
      "A value is trying to be set on a copy of a slice from a DataFrame.\n",
      "Try using .loc[row_indexer,col_indexer] = value instead\n",
      "\n",
      "See the caveats in the documentation: https://pandas.pydata.org/pandas-docs/stable/user_guide/indexing.html#returning-a-view-versus-a-copy\n",
      "  \"\"\"\n",
      "/home/tungnk/anaconda3/lib/python3.7/site-packages/ipykernel_launcher.py:6: SettingWithCopyWarning: \n",
      "A value is trying to be set on a copy of a slice from a DataFrame.\n",
      "Try using .loc[row_indexer,col_indexer] = value instead\n",
      "\n",
      "See the caveats in the documentation: https://pandas.pydata.org/pandas-docs/stable/user_guide/indexing.html#returning-a-view-versus-a-copy\n",
      "  \n",
      "/home/tungnk/anaconda3/lib/python3.7/site-packages/ipykernel_launcher.py:7: SettingWithCopyWarning: \n",
      "A value is trying to be set on a copy of a slice from a DataFrame.\n",
      "Try using .loc[row_indexer,col_indexer] = value instead\n",
      "\n",
      "See the caveats in the documentation: https://pandas.pydata.org/pandas-docs/stable/user_guide/indexing.html#returning-a-view-versus-a-copy\n",
      "  import sys\n"
     ]
    },
    {
     "name": "stdout",
     "output_type": "stream",
     "text": [
      "Train shape\n",
      "(337256, 8)\n",
      "(337256, 5)\n",
      "--> (337256, 13)\n",
      "Test shape\n",
      "(84314, 8)\n",
      "(84314, 5)\n",
      "--> (84314, 13)\n",
      "Training\n",
      "(337256, 13)\n"
     ]
    },
    {
     "name": "stderr",
     "output_type": "stream",
     "text": [
      "/home/tungnk/anaconda3/lib/python3.7/site-packages/sklearn/ensemble/forest.py:246: FutureWarning: The default value of n_estimators will change from 10 in version 0.20 to 100 in 0.22.\n",
      "  \"10 in version 0.20 to 100 in 0.22.\", FutureWarning)\n"
     ]
    },
    {
     "name": "stdout",
     "output_type": "stream",
     "text": [
      "WMAE:  1635.5087963612532\n"
     ]
    }
   ],
   "source": [
    "train_df_mk = fill_na(train_df)\n",
    "test_df_mk = fill_na(test_df)\n",
    "\n",
    "markdown_train = train_df_mk[['MarkDown1', 'MarkDown2', 'MarkDown3', 'MarkDown4', 'MarkDown5']].to_numpy()\n",
    "markdown_test = test_df_mk[['MarkDown1', 'MarkDown2', 'MarkDown3', 'MarkDown4', 'MarkDown5']].to_numpy()\n",
    "\n",
    "print('Train shape')\n",
    "print(X_train.shape)\n",
    "print(markdown_train.shape)\n",
    "X_train_ = np.c_[X_train, markdown_train]\n",
    "print('-->', X_train_.shape)\n",
    "\n",
    "print('Test shape')\n",
    "print(X_test.shape)\n",
    "print(markdown_test.shape)\n",
    "X_test_ = np.c_[X_test, markdown_test]\n",
    "print('-->', X_test_.shape)\n",
    "\n",
    "train(X_train_, y_train, X_test_, y_test, weight)"
   ]
  },
  {
   "cell_type": "markdown",
   "metadata": {},
   "source": [
    "Markdown WMAE:  1623.6446441098826"
   ]
  },
  {
   "cell_type": "markdown",
   "metadata": {},
   "source": [
    "## Use CPI"
   ]
  },
  {
   "cell_type": "code",
   "execution_count": 89,
   "metadata": {},
   "outputs": [
    {
     "name": "stdout",
     "output_type": "stream",
     "text": [
      "Train shape\n",
      "(337256, 8)\n",
      "(337256,)\n",
      "--> (337256, 9)\n",
      "Test shape\n",
      "(84314, 8)\n",
      "(84314,)\n",
      "--> (84314, 9)\n",
      "Training\n",
      "(337256, 9)\n"
     ]
    },
    {
     "name": "stderr",
     "output_type": "stream",
     "text": [
      "/home/tungnk/anaconda3/lib/python3.7/site-packages/sklearn/ensemble/forest.py:246: FutureWarning: The default value of n_estimators will change from 10 in version 0.20 to 100 in 0.22.\n",
      "  \"10 in version 0.20 to 100 in 0.22.\", FutureWarning)\n"
     ]
    },
    {
     "name": "stdout",
     "output_type": "stream",
     "text": [
      "WMAE:  1631.7475901286764\n"
     ]
    }
   ],
   "source": [
    "cpi_train = train_df_mk['CPI'].to_numpy()\n",
    "cpi_test = test_df_mk['CPI'].to_numpy()\n",
    "\n",
    "print('Train shape')\n",
    "print(X_train.shape)\n",
    "print(cpi_train.shape)\n",
    "X_train_ = np.c_[X_train, cpi_train]\n",
    "print('-->', X_train_.shape)\n",
    "\n",
    "print('Test shape')\n",
    "print(X_test.shape)\n",
    "print(cpi_test.shape)\n",
    "X_test_ = np.c_[X_test, cpi_test]\n",
    "print('-->', X_test_.shape)\n",
    "\n",
    "train(X_train_, y_train, X_test_, y_test, weight)"
   ]
  },
  {
   "cell_type": "markdown",
   "metadata": {},
   "source": [
    "CPI : WMAE:  1613.1839471726325"
   ]
  },
  {
   "cell_type": "markdown",
   "metadata": {},
   "source": [
    "## Use unemployment"
   ]
  },
  {
   "cell_type": "code",
   "execution_count": 90,
   "metadata": {},
   "outputs": [
    {
     "name": "stdout",
     "output_type": "stream",
     "text": [
      "Train shape\n",
      "(337256, 8)\n",
      "(337256,)\n",
      "--> (337256, 9)\n",
      "Test shape\n",
      "(84314, 8)\n",
      "(84314,)\n",
      "--> (84314, 9)\n",
      "Training\n",
      "(337256, 9)\n"
     ]
    },
    {
     "name": "stderr",
     "output_type": "stream",
     "text": [
      "/home/tungnk/anaconda3/lib/python3.7/site-packages/sklearn/ensemble/forest.py:246: FutureWarning: The default value of n_estimators will change from 10 in version 0.20 to 100 in 0.22.\n",
      "  \"10 in version 0.20 to 100 in 0.22.\", FutureWarning)\n"
     ]
    },
    {
     "name": "stdout",
     "output_type": "stream",
     "text": [
      "WMAE:  1589.6848474993997\n"
     ]
    }
   ],
   "source": [
    "unemployment_train = train_df_mk['Unemployment'].to_numpy()\n",
    "unemployment_test = test_df_mk['Unemployment'].to_numpy()\n",
    "\n",
    "print('Train shape')\n",
    "print(X_train.shape)\n",
    "print(unemployment_train.shape)\n",
    "X_train_ = np.c_[X_train, unemployment_train]\n",
    "print('-->', X_train_.shape)\n",
    "\n",
    "print('Test shape')\n",
    "print(X_test.shape)\n",
    "print(unemployment_test.shape)\n",
    "X_test_ = np.c_[X_test, unemployment_test]\n",
    "print('-->', X_test_.shape)\n",
    "\n",
    "train(X_train_, y_train, X_test_, y_test, weight)"
   ]
  },
  {
   "cell_type": "markdown",
   "metadata": {},
   "source": [
    "Unemployment: WMAE:  1599.0173811361162"
   ]
  },
  {
   "cell_type": "markdown",
   "metadata": {},
   "source": [
    "## Use temperature"
   ]
  },
  {
   "cell_type": "code",
   "execution_count": 91,
   "metadata": {},
   "outputs": [
    {
     "name": "stdout",
     "output_type": "stream",
     "text": [
      "Train shape\n",
      "(337256, 8)\n",
      "(337256,)\n",
      "--> (337256, 9)\n",
      "Test shape\n",
      "(84314, 8)\n",
      "(84314,)\n",
      "--> (84314, 9)\n",
      "Training\n",
      "(337256, 9)\n"
     ]
    },
    {
     "name": "stderr",
     "output_type": "stream",
     "text": [
      "/home/tungnk/anaconda3/lib/python3.7/site-packages/sklearn/ensemble/forest.py:246: FutureWarning: The default value of n_estimators will change from 10 in version 0.20 to 100 in 0.22.\n",
      "  \"10 in version 0.20 to 100 in 0.22.\", FutureWarning)\n"
     ]
    },
    {
     "name": "stdout",
     "output_type": "stream",
     "text": [
      "WMAE:  1627.0249164251297\n"
     ]
    }
   ],
   "source": [
    "temperature_train = train_df_mk['Temperature'].to_numpy()\n",
    "temperature_test = test_df_mk['Temperature'].to_numpy()\n",
    "\n",
    "print('Train shape')\n",
    "print(X_train.shape)\n",
    "print(temperature_train.shape)\n",
    "X_train_ = np.c_[X_train, temperature_train]\n",
    "print('-->', X_train_.shape)\n",
    "\n",
    "print('Test shape')\n",
    "print(X_test.shape)\n",
    "print(temperature_test.shape)\n",
    "X_test_ = np.c_[X_test, temperature_test]\n",
    "print('-->', X_test_.shape)\n",
    "\n",
    "train(X_train_, y_train, X_test_, y_test, weight)"
   ]
  },
  {
   "cell_type": "markdown",
   "metadata": {},
   "source": [
    "temperature: WMAE:  1616.27552953828"
   ]
  },
  {
   "cell_type": "markdown",
   "metadata": {},
   "source": [
    "## Use Fuel_Frice"
   ]
  },
  {
   "cell_type": "code",
   "execution_count": 92,
   "metadata": {},
   "outputs": [
    {
     "name": "stdout",
     "output_type": "stream",
     "text": [
      "Train shape\n",
      "(337256, 8)\n",
      "(337256,)\n",
      "--> (337256, 9)\n",
      "Test shape\n",
      "(84314, 8)\n",
      "(84314,)\n",
      "--> (84314, 9)\n",
      "Training\n",
      "(337256, 9)\n"
     ]
    },
    {
     "name": "stderr",
     "output_type": "stream",
     "text": [
      "/home/tungnk/anaconda3/lib/python3.7/site-packages/sklearn/ensemble/forest.py:246: FutureWarning: The default value of n_estimators will change from 10 in version 0.20 to 100 in 0.22.\n",
      "  \"10 in version 0.20 to 100 in 0.22.\", FutureWarning)\n"
     ]
    },
    {
     "name": "stdout",
     "output_type": "stream",
     "text": [
      "WMAE:  1613.772685371167\n"
     ]
    }
   ],
   "source": [
    "fuel_price_train = train_df_mk['Fuel_Price'].to_numpy()\n",
    "fuel_price_test = test_df_mk['Fuel_Price'].to_numpy()\n",
    "\n",
    "print('Train shape')\n",
    "print(X_train.shape)\n",
    "print(fuel_price_train.shape)\n",
    "X_train_ = np.c_[X_train, fuel_price_train]\n",
    "print('-->', X_train_.shape)\n",
    "\n",
    "print('Test shape')\n",
    "print(X_test.shape)\n",
    "print(fuel_price_test.shape)\n",
    "X_test_ = np.c_[X_test, fuel_price_test]\n",
    "print('-->', X_test_.shape)\n",
    "\n",
    "train(X_train_, y_train, X_test_, y_test, weight)"
   ]
  },
  {
   "cell_type": "markdown",
   "metadata": {},
   "source": [
    "Fuel_Price: WMAE:  1622.10130435505"
   ]
  },
  {
   "cell_type": "markdown",
   "metadata": {},
   "source": [
    "## Markdown and holiday"
   ]
  },
  {
   "cell_type": "code",
   "execution_count": 98,
   "metadata": {},
   "outputs": [
    {
     "name": "stdout",
     "output_type": "stream",
     "text": [
      "Train shape\n",
      "(337256, 8)\n",
      "(337256, 6)\n",
      "--> (337256, 14)\n",
      "Test shape\n",
      "(84314, 8)\n",
      "(84314, 6)\n",
      "--> (84314, 14)\n",
      "Training\n",
      "(337256, 14)\n"
     ]
    },
    {
     "name": "stderr",
     "output_type": "stream",
     "text": [
      "/home/tungnk/anaconda3/lib/python3.7/site-packages/sklearn/ensemble/forest.py:246: FutureWarning: The default value of n_estimators will change from 10 in version 0.20 to 100 in 0.22.\n",
      "  \"10 in version 0.20 to 100 in 0.22.\", FutureWarning)\n"
     ]
    },
    {
     "name": "stdout",
     "output_type": "stream",
     "text": [
      "WMAE:  1620.59205675042\n"
     ]
    }
   ],
   "source": [
    "markdown_holiday_train = np.c_[markdown_train, holiday_train]\n",
    "\n",
    "print('Train shape')\n",
    "print(X_train.shape)\n",
    "print(markdown_holiday_train.shape)\n",
    "X_train_ = np.c_[X_train, markdown_holiday_train]\n",
    "print('-->', X_train_.shape)\n",
    "\n",
    "\n",
    "markdown_holiday_test = np.c_[markdown_test, holiday_test]\n",
    "\n",
    "print('Test shape')\n",
    "print(X_test.shape)\n",
    "print(markdown_holiday_test.shape)\n",
    "X_test_ = np.c_[X_test, markdown_holiday_test]\n",
    "print('-->', X_test_.shape)\n",
    "\n",
    "train(X_train_, y_train, X_test_, y_test, weight)"
   ]
  },
  {
   "cell_type": "code",
   "execution_count": null,
   "metadata": {},
   "outputs": [],
   "source": []
  }
 ],
 "metadata": {
  "kernelspec": {
   "display_name": "Python 3",
   "language": "python",
   "name": "python3"
  },
  "language_info": {
   "codemirror_mode": {
    "name": "ipython",
    "version": 3
   },
   "file_extension": ".py",
   "mimetype": "text/x-python",
   "name": "python",
   "nbconvert_exporter": "python",
   "pygments_lexer": "ipython3",
   "version": "3.7.3"
  }
 },
 "nbformat": 4,
 "nbformat_minor": 2
}
